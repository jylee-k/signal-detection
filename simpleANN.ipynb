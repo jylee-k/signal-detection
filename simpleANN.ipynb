{
 "cells": [
  {
   "cell_type": "code",
   "execution_count": 94,
   "metadata": {},
   "outputs": [],
   "source": [
    "import tensorflow as tf\n",
    "\n",
    "from tensorflow.keras import datasets, layers, models, Input, metrics, Model\n",
    "import matplotlib.pyplot as plt\n",
    "\n",
    "from pandas import read_csv\n",
    "from sklearn.model_selection import train_test_split"
   ]
  },
  {
   "cell_type": "code",
   "execution_count": 78,
   "metadata": {},
   "outputs": [],
   "source": [
    "## import dataset\n",
    "def load_file(filepath):\n",
    "\tdataframe = read_csv(filepath, header=None)\n",
    "\treturn dataframe.values"
   ]
  },
  {
   "cell_type": "code",
   "execution_count": 79,
   "metadata": {},
   "outputs": [],
   "source": [
    "\n",
    "X = load_file('datasetin.csv')\n",
    "y = load_file('datasetout.csv')\n",
    "trainX, testX, trainy, testy = train_test_split(X, y, random_state = 42, test_size = 0.2)\n"
   ]
  },
  {
   "cell_type": "code",
   "execution_count": 80,
   "metadata": {},
   "outputs": [
    {
     "data": {
      "text/plain": [
       "(252, 10001)"
      ]
     },
     "execution_count": 80,
     "metadata": {},
     "output_type": "execute_result"
    }
   ],
   "source": [
    "X.shape"
   ]
  },
  {
   "cell_type": "code",
   "execution_count": 101,
   "metadata": {},
   "outputs": [],
   "source": [
    "inputs = Input(shape=(10001,))\n",
    "\n",
    "##separating bits and snr\n",
    "stream = inputs[:, :-1]\n",
    "snr = inputs[:, -1]\n",
    "\n",
    "x = layers.Bidirectional(layers.GRU(\n",
    "    64//2\n",
    "))(stream[:, :, None])\n",
    "\n",
    "x = layers.Concatenate()([\n",
    "    x, snr[:, None]\n",
    "])\n",
    "\n",
    "x = layers.Dense(64, activation=layers.LeakyReLU())(x)\n",
    "x = layers.Dense(32, activation=layers.LeakyReLU())(x)\n",
    "output = layers.Dense(1, activation='sigmoid')(x)\n",
    "\n",
    "model = Model(inputs=inputs, outputs=output)"
   ]
  },
  {
   "cell_type": "code",
   "execution_count": 99,
   "metadata": {},
   "outputs": [
    {
     "name": "stdout",
     "output_type": "stream",
     "text": [
      "Model: \"model_1\"\n",
      "__________________________________________________________________________________________________\n",
      "Layer (type)                    Output Shape         Param #     Connected to                     \n",
      "==================================================================================================\n",
      "input_12 (InputLayer)           [(None, 10001)]      0                                            \n",
      "__________________________________________________________________________________________________\n",
      "tf.__operators__.getitem_15 (Sl (None, 10000)        0           input_12[0][0]                   \n",
      "__________________________________________________________________________________________________\n",
      "tf.__operators__.getitem_17 (Sl (None, 10000, 1)     0           tf.__operators__.getitem_15[0][0]\n",
      "__________________________________________________________________________________________________\n",
      "tf.__operators__.getitem_16 (Sl (None,)              0           input_12[0][0]                   \n",
      "__________________________________________________________________________________________________\n",
      "bidirectional_4 (Bidirectional) (None, 128)          25728       tf.__operators__.getitem_17[0][0]\n",
      "__________________________________________________________________________________________________\n",
      "tf.__operators__.getitem_18 (Sl (None, 1)            0           tf.__operators__.getitem_16[0][0]\n",
      "__________________________________________________________________________________________________\n",
      "concatenate_3 (Concatenate)     (None, 129)          0           bidirectional_4[0][0]            \n",
      "                                                                 tf.__operators__.getitem_18[0][0]\n",
      "__________________________________________________________________________________________________\n",
      "dense_48 (Dense)                (None, 64)           8320        concatenate_3[0][0]              \n",
      "__________________________________________________________________________________________________\n",
      "dense_49 (Dense)                (None, 32)           2080        dense_48[0][0]                   \n",
      "__________________________________________________________________________________________________\n",
      "dense_50 (Dense)                (None, 1)            33          dense_49[0][0]                   \n",
      "==================================================================================================\n",
      "Total params: 36,161\n",
      "Trainable params: 36,161\n",
      "Non-trainable params: 0\n",
      "__________________________________________________________________________________________________\n"
     ]
    }
   ],
   "source": [
    "model.summary()"
   ]
  },
  {
   "cell_type": "code",
   "execution_count": 105,
   "metadata": {
    "tags": []
   },
   "outputs": [
    {
     "name": "stdout",
     "output_type": "stream",
     "text": [
      "Epoch 1/100\n",
      "7/7 [==============================] - 26s 3s/step - loss: 0.6563 - binary_accuracy: 0.6471 - precision_5: 0.6397 - recall_5: 0.7054 - auc: 0.7263 - val_loss: 0.6317 - val_binary_accuracy: 0.6863 - val_precision_5: 0.6571 - val_recall_5: 0.8519 - val_auc: 0.7585\n",
      "Epoch 2/100\n",
      "7/7 [==============================] - 21s 3s/step - loss: 0.6738 - binary_accuracy: 0.5892 - precision_5: 0.5617 - recall_5: 0.5280 - auc: 0.6545 - val_loss: 0.6303 - val_binary_accuracy: 0.7255 - val_precision_5: 0.7241 - val_recall_5: 0.7778 - val_auc: 0.7461\n",
      "Epoch 3/100\n",
      "7/7 [==============================] - 21s 3s/step - loss: 0.6566 - binary_accuracy: 0.5883 - precision_5: 0.5614 - recall_5: 0.7893 - auc: 0.7082 - val_loss: 0.6220 - val_binary_accuracy: 0.7255 - val_precision_5: 0.7097 - val_recall_5: 0.8148 - val_auc: 0.7485\n",
      "Epoch 4/100\n",
      "7/7 [==============================] - 21s 3s/step - loss: 0.6267 - binary_accuracy: 0.6654 - precision_5: 0.6616 - recall_5: 0.6686 - auc: 0.7444 - val_loss: 0.6410 - val_binary_accuracy: 0.6667 - val_precision_5: 0.7083 - val_recall_5: 0.6296 - val_auc: 0.6944\n",
      "Epoch 5/100\n",
      "7/7 [==============================] - 22s 3s/step - loss: 0.6350 - binary_accuracy: 0.6742 - precision_5: 0.7660 - recall_5: 0.5423 - auc: 0.7299 - val_loss: 0.6117 - val_binary_accuracy: 0.7451 - val_precision_5: 0.7188 - val_recall_5: 0.8519 - val_auc: 0.7531\n",
      "Epoch 6/100\n",
      "7/7 [==============================] - 21s 3s/step - loss: 0.6447 - binary_accuracy: 0.6496 - precision_5: 0.6159 - recall_5: 0.6427 - auc: 0.7033 - val_loss: 0.6170 - val_binary_accuracy: 0.6863 - val_precision_5: 0.7200 - val_recall_5: 0.6667 - val_auc: 0.7238\n",
      "Epoch 7/100\n",
      "7/7 [==============================] - 21s 3s/step - loss: 0.6371 - binary_accuracy: 0.6435 - precision_5: 0.6488 - recall_5: 0.7018 - auc: 0.7202 - val_loss: 0.5975 - val_binary_accuracy: 0.6863 - val_precision_5: 0.6486 - val_recall_5: 0.8889 - val_auc: 0.7739\n",
      "Epoch 8/100\n",
      "7/7 [==============================] - 20s 3s/step - loss: 0.6077 - binary_accuracy: 0.6417 - precision_5: 0.5989 - recall_5: 0.7769 - auc: 0.7735 - val_loss: 0.5954 - val_binary_accuracy: 0.7255 - val_precision_5: 0.7407 - val_recall_5: 0.7407 - val_auc: 0.7716\n",
      "Epoch 9/100\n",
      "7/7 [==============================] - 21s 3s/step - loss: 0.6050 - binary_accuracy: 0.7049 - precision_5: 0.6886 - recall_5: 0.7990 - auc: 0.7614 - val_loss: 0.5816 - val_binary_accuracy: 0.7647 - val_precision_5: 0.7419 - val_recall_5: 0.8519 - val_auc: 0.7755\n",
      "Epoch 10/100\n",
      "7/7 [==============================] - 20s 3s/step - loss: 0.6223 - binary_accuracy: 0.6497 - precision_5: 0.6447 - recall_5: 0.6053 - auc: 0.7218 - val_loss: 0.5765 - val_binary_accuracy: 0.7451 - val_precision_5: 0.7500 - val_recall_5: 0.7778 - val_auc: 0.7840\n",
      "Epoch 11/100\n",
      "7/7 [==============================] - 20s 3s/step - loss: 0.5810 - binary_accuracy: 0.6806 - precision_5: 0.6231 - recall_5: 0.7031 - auc: 0.7863 - val_loss: 0.5578 - val_binary_accuracy: 0.7255 - val_precision_5: 0.6970 - val_recall_5: 0.8519 - val_auc: 0.8002\n",
      "Epoch 12/100\n",
      "7/7 [==============================] - 20s 3s/step - loss: 0.5838 - binary_accuracy: 0.6708 - precision_5: 0.6670 - recall_5: 0.7717 - auc: 0.7678 - val_loss: 0.5701 - val_binary_accuracy: 0.6863 - val_precision_5: 0.7200 - val_recall_5: 0.6667 - val_auc: 0.7739\n",
      "Epoch 13/100\n",
      "7/7 [==============================] - 21s 3s/step - loss: 0.5829 - binary_accuracy: 0.7120 - precision_5: 0.7710 - recall_5: 0.6092 - auc: 0.7777 - val_loss: 0.5378 - val_binary_accuracy: 0.7451 - val_precision_5: 0.7188 - val_recall_5: 0.8519 - val_auc: 0.8110\n",
      "Epoch 14/100\n",
      "7/7 [==============================] - 20s 3s/step - loss: 0.5725 - binary_accuracy: 0.6821 - precision_5: 0.6258 - recall_5: 0.8738 - auc: 0.8034 - val_loss: 0.5181 - val_binary_accuracy: 0.7843 - val_precision_5: 0.7857 - val_recall_5: 0.8148 - val_auc: 0.8372\n",
      "Epoch 15/100\n",
      "7/7 [==============================] - 21s 3s/step - loss: 0.5343 - binary_accuracy: 0.7315 - precision_5: 0.7922 - recall_5: 0.6285 - auc: 0.8190 - val_loss: 0.5139 - val_binary_accuracy: 0.7451 - val_precision_5: 0.7692 - val_recall_5: 0.7407 - val_auc: 0.8364\n",
      "Epoch 16/100\n",
      "7/7 [==============================] - 21s 3s/step - loss: 0.5239 - binary_accuracy: 0.7333 - precision_5: 0.7422 - recall_5: 0.7257 - auc: 0.8243 - val_loss: 0.4811 - val_binary_accuracy: 0.7647 - val_precision_5: 0.7419 - val_recall_5: 0.8519 - val_auc: 0.8673\n",
      "Epoch 17/100\n",
      "7/7 [==============================] - 21s 3s/step - loss: 0.4854 - binary_accuracy: 0.7470 - precision_5: 0.7456 - recall_5: 0.7362 - auc: 0.8540 - val_loss: 0.4763 - val_binary_accuracy: 0.8039 - val_precision_5: 0.8148 - val_recall_5: 0.8148 - val_auc: 0.8650\n",
      "Epoch 18/100\n",
      "7/7 [==============================] - 32s 5s/step - loss: 0.5262 - binary_accuracy: 0.7440 - precision_5: 0.7225 - recall_5: 0.7864 - auc: 0.8141 - val_loss: 0.4554 - val_binary_accuracy: 0.7843 - val_precision_5: 0.7667 - val_recall_5: 0.8519 - val_auc: 0.8758\n",
      "Epoch 19/100\n",
      "7/7 [==============================] - 37s 5s/step - loss: 0.4730 - binary_accuracy: 0.7843 - precision_5: 0.7895 - recall_5: 0.7691 - auc: 0.8587 - val_loss: 0.4505 - val_binary_accuracy: 0.8039 - val_precision_5: 0.8400 - val_recall_5: 0.7778 - val_auc: 0.8773\n",
      "Epoch 20/100\n",
      "7/7 [==============================] - 35s 5s/step - loss: 0.4702 - binary_accuracy: 0.7553 - precision_5: 0.7506 - recall_5: 0.7262 - auc: 0.8532 - val_loss: 0.4299 - val_binary_accuracy: 0.8235 - val_precision_5: 0.8214 - val_recall_5: 0.8519 - val_auc: 0.8819\n",
      "Epoch 21/100\n",
      "7/7 [==============================] - 33s 5s/step - loss: 0.4635 - binary_accuracy: 0.7465 - precision_5: 0.7036 - recall_5: 0.8310 - auc: 0.8709 - val_loss: 0.4463 - val_binary_accuracy: 0.8235 - val_precision_5: 0.8462 - val_recall_5: 0.8148 - val_auc: 0.8804\n",
      "Epoch 22/100\n",
      "7/7 [==============================] - 37s 5s/step - loss: 0.4864 - binary_accuracy: 0.7326 - precision_5: 0.7751 - recall_5: 0.6805 - auc: 0.8444 - val_loss: 0.4470 - val_binary_accuracy: 0.8039 - val_precision_5: 0.8148 - val_recall_5: 0.8148 - val_auc: 0.8789\n",
      "Epoch 23/100\n",
      "7/7 [==============================] - 37s 5s/step - loss: 0.4609 - binary_accuracy: 0.7660 - precision_5: 0.7352 - recall_5: 0.7192 - auc: 0.8673 - val_loss: 0.4545 - val_binary_accuracy: 0.8627 - val_precision_5: 0.8333 - val_recall_5: 0.9259 - val_auc: 0.8781\n",
      "Epoch 24/100\n",
      "7/7 [==============================] - 34s 5s/step - loss: 0.4684 - binary_accuracy: 0.7545 - precision_5: 0.6936 - recall_5: 0.8004 - auc: 0.8688 - val_loss: 0.4532 - val_binary_accuracy: 0.7843 - val_precision_5: 0.8077 - val_recall_5: 0.7778 - val_auc: 0.8727\n",
      "Epoch 25/100\n",
      "7/7 [==============================] - 35s 5s/step - loss: 0.4656 - binary_accuracy: 0.7467 - precision_5: 0.7244 - recall_5: 0.6865 - auc: 0.8530 - val_loss: 0.4466 - val_binary_accuracy: 0.8039 - val_precision_5: 0.8148 - val_recall_5: 0.8148 - val_auc: 0.8642\n",
      "Epoch 26/100\n",
      "7/7 [==============================] - 34s 5s/step - loss: 0.4195 - binary_accuracy: 0.8134 - precision_5: 0.8216 - recall_5: 0.8021 - auc: 0.8873 - val_loss: 0.4549 - val_binary_accuracy: 0.7647 - val_precision_5: 0.8000 - val_recall_5: 0.7407 - val_auc: 0.8711\n",
      "Epoch 27/100\n",
      "7/7 [==============================] - 33s 5s/step - loss: 0.4569 - binary_accuracy: 0.7662 - precision_5: 0.8011 - recall_5: 0.6890 - auc: 0.8635 - val_loss: 0.4605 - val_binary_accuracy: 0.8039 - val_precision_5: 0.8148 - val_recall_5: 0.8148 - val_auc: 0.8688\n",
      "Epoch 28/100\n",
      "7/7 [==============================] - 35s 5s/step - loss: 0.4763 - binary_accuracy: 0.7573 - precision_5: 0.7829 - recall_5: 0.7203 - auc: 0.8502 - val_loss: 0.4605 - val_binary_accuracy: 0.8039 - val_precision_5: 0.8148 - val_recall_5: 0.8148 - val_auc: 0.8704\n",
      "Epoch 29/100\n",
      "7/7 [==============================] - 34s 5s/step - loss: 0.4181 - binary_accuracy: 0.7937 - precision_5: 0.8122 - recall_5: 0.7640 - auc: 0.8915 - val_loss: 0.4448 - val_binary_accuracy: 0.7843 - val_precision_5: 0.8077 - val_recall_5: 0.7778 - val_auc: 0.8742\n",
      "Epoch 30/100\n",
      "7/7 [==============================] - 34s 5s/step - loss: 0.4419 - binary_accuracy: 0.7910 - precision_5: 0.8321 - recall_5: 0.7002 - auc: 0.8785 - val_loss: 0.4589 - val_binary_accuracy: 0.7451 - val_precision_5: 0.8182 - val_recall_5: 0.6667 - val_auc: 0.8681\n",
      "Epoch 31/100\n",
      "7/7 [==============================] - 32s 5s/step - loss: 0.4549 - binary_accuracy: 0.7680 - precision_5: 0.7852 - recall_5: 0.7459 - auc: 0.8709 - val_loss: 0.4528 - val_binary_accuracy: 0.8235 - val_precision_5: 0.8000 - val_recall_5: 0.8889 - val_auc: 0.8696\n",
      "Epoch 32/100\n",
      "7/7 [==============================] - 34s 5s/step - loss: 0.4597 - binary_accuracy: 0.7690 - precision_5: 0.7632 - recall_5: 0.8044 - auc: 0.8635 - val_loss: 0.4585 - val_binary_accuracy: 0.8039 - val_precision_5: 0.8400 - val_recall_5: 0.7778 - val_auc: 0.8650\n",
      "Epoch 33/100\n",
      "7/7 [==============================] - 35s 5s/step - loss: 0.4156 - binary_accuracy: 0.8071 - precision_5: 0.8415 - recall_5: 0.7405 - auc: 0.8904 - val_loss: 0.4487 - val_binary_accuracy: 0.7843 - val_precision_5: 0.7857 - val_recall_5: 0.8148 - val_auc: 0.8727\n",
      "Epoch 34/100\n",
      "7/7 [==============================] - 35s 5s/step - loss: 0.3982 - binary_accuracy: 0.8170 - precision_5: 0.7935 - recall_5: 0.8248 - auc: 0.9059 - val_loss: 0.4577 - val_binary_accuracy: 0.8039 - val_precision_5: 0.7931 - val_recall_5: 0.8519 - val_auc: 0.8696\n",
      "Epoch 35/100\n",
      "7/7 [==============================] - 35s 5s/step - loss: 0.4090 - binary_accuracy: 0.7885 - precision_5: 0.8114 - recall_5: 0.7679 - auc: 0.8931 - val_loss: 0.4755 - val_binary_accuracy: 0.7843 - val_precision_5: 0.7857 - val_recall_5: 0.8148 - val_auc: 0.8565\n",
      "Epoch 36/100\n",
      "7/7 [==============================] - 33s 5s/step - loss: 0.4768 - binary_accuracy: 0.7691 - precision_5: 0.7884 - recall_5: 0.6593 - auc: 0.8563 - val_loss: 0.4661 - val_binary_accuracy: 0.7843 - val_precision_5: 0.7857 - val_recall_5: 0.8148 - val_auc: 0.8627\n",
      "Epoch 37/100\n",
      "7/7 [==============================] - 33s 5s/step - loss: 0.4389 - binary_accuracy: 0.8024 - precision_5: 0.7747 - recall_5: 0.8302 - auc: 0.8847 - val_loss: 0.4457 - val_binary_accuracy: 0.8039 - val_precision_5: 0.7931 - val_recall_5: 0.8519 - val_auc: 0.8673\n",
      "Epoch 38/100\n",
      "7/7 [==============================] - 33s 5s/step - loss: 0.4384 - binary_accuracy: 0.7921 - precision_5: 0.7763 - recall_5: 0.7351 - auc: 0.8793 - val_loss: 0.4478 - val_binary_accuracy: 0.7843 - val_precision_5: 0.7857 - val_recall_5: 0.8148 - val_auc: 0.8696\n",
      "Epoch 39/100\n",
      "7/7 [==============================] - 31s 4s/step - loss: 0.4148 - binary_accuracy: 0.8325 - precision_5: 0.8157 - recall_5: 0.8560 - auc: 0.8938 - val_loss: 0.4657 - val_binary_accuracy: 0.8039 - val_precision_5: 0.7931 - val_recall_5: 0.8519 - val_auc: 0.8657\n",
      "Epoch 40/100\n",
      "7/7 [==============================] - 33s 5s/step - loss: 0.4342 - binary_accuracy: 0.7984 - precision_5: 0.7782 - recall_5: 0.8179 - auc: 0.8827 - val_loss: 0.4641 - val_binary_accuracy: 0.7647 - val_precision_5: 0.7778 - val_recall_5: 0.7778 - val_auc: 0.8634\n",
      "Epoch 41/100\n",
      "7/7 [==============================] - 32s 5s/step - loss: 0.4100 - binary_accuracy: 0.7888 - precision_5: 0.8013 - recall_5: 0.7286 - auc: 0.8911 - val_loss: 0.4581 - val_binary_accuracy: 0.8039 - val_precision_5: 0.7931 - val_recall_5: 0.8519 - val_auc: 0.8681\n",
      "Epoch 42/100\n",
      "7/7 [==============================] - 32s 5s/step - loss: 0.4286 - binary_accuracy: 0.7923 - precision_5: 0.7444 - recall_5: 0.8617 - auc: 0.8869 - val_loss: 0.4641 - val_binary_accuracy: 0.7647 - val_precision_5: 0.7778 - val_recall_5: 0.7778 - val_auc: 0.8650\n",
      "Epoch 43/100\n",
      "7/7 [==============================] - 34s 5s/step - loss: 0.4491 - binary_accuracy: 0.8077 - precision_5: 0.8356 - recall_5: 0.7517 - auc: 0.8773 - val_loss: 0.4787 - val_binary_accuracy: 0.7647 - val_precision_5: 0.7778 - val_recall_5: 0.7778 - val_auc: 0.8557\n",
      "Epoch 44/100\n",
      "7/7 [==============================] - 35s 5s/step - loss: 0.4278 - binary_accuracy: 0.7895 - precision_5: 0.8047 - recall_5: 0.7742 - auc: 0.8865 - val_loss: 0.4759 - val_binary_accuracy: 0.8039 - val_precision_5: 0.7931 - val_recall_5: 0.8519 - val_auc: 0.8657\n",
      "Epoch 45/100\n",
      "7/7 [==============================] - 33s 5s/step - loss: 0.3791 - binary_accuracy: 0.8232 - precision_5: 0.8311 - recall_5: 0.8208 - auc: 0.9108 - val_loss: 0.4845 - val_binary_accuracy: 0.7647 - val_precision_5: 0.7778 - val_recall_5: 0.7778 - val_auc: 0.8565\n",
      "Epoch 46/100\n",
      "7/7 [==============================] - 32s 5s/step - loss: 0.4393 - binary_accuracy: 0.8067 - precision_5: 0.8561 - recall_5: 0.7000 - auc: 0.8797 - val_loss: 0.4628 - val_binary_accuracy: 0.7843 - val_precision_5: 0.7667 - val_recall_5: 0.8519 - val_auc: 0.8634\n",
      "Epoch 47/100\n",
      "7/7 [==============================] - 34s 5s/step - loss: 0.4461 - binary_accuracy: 0.7781 - precision_5: 0.7328 - recall_5: 0.8754 - auc: 0.8865 - val_loss: 0.4849 - val_binary_accuracy: 0.8039 - val_precision_5: 0.7931 - val_recall_5: 0.8519 - val_auc: 0.8542\n",
      "Epoch 48/100\n",
      "7/7 [==============================] - 36s 5s/step - loss: 0.4052 - binary_accuracy: 0.8040 - precision_5: 0.7823 - recall_5: 0.8655 - auc: 0.8984 - val_loss: 0.4664 - val_binary_accuracy: 0.8039 - val_precision_5: 0.7931 - val_recall_5: 0.8519 - val_auc: 0.8565\n",
      "Epoch 49/100\n",
      "1/7 [===>..........................] - ETA: 41s - loss: 0.4313 - binary_accuracy: 0.7500 - precision_5: 0.7500 - recall_5: 0.5000 - auc: 0.8917"
     ]
    },
    {
     "ename": "KeyboardInterrupt",
     "evalue": "",
     "output_type": "error",
     "traceback": [
      "\u001b[0;31m---------------------------------------------------------------------------\u001b[0m",
      "\u001b[0;31mKeyboardInterrupt\u001b[0m                         Traceback (most recent call last)",
      "\u001b[0;32m<ipython-input-105-16524fa43b23>\u001b[0m in \u001b[0;36m<module>\u001b[0;34m\u001b[0m\n\u001b[1;32m      3\u001b[0m               metrics=[metrics.BinaryAccuracy(), metrics.Precision(), metrics.Recall(), metrics.AUC()])\n\u001b[1;32m      4\u001b[0m \u001b[0;34m\u001b[0m\u001b[0m\n\u001b[0;32m----> 5\u001b[0;31m history = model.fit(trainX, trainy, epochs=100, \n\u001b[0m\u001b[1;32m      6\u001b[0m                     validation_data=(testX, testy))\n",
      "\u001b[0;32m/Library/Frameworks/Python.framework/Versions/3.8/lib/python3.8/site-packages/tensorflow/python/keras/engine/training.py\u001b[0m in \u001b[0;36mfit\u001b[0;34m(self, x, y, batch_size, epochs, verbose, callbacks, validation_split, validation_data, shuffle, class_weight, sample_weight, initial_epoch, steps_per_epoch, validation_steps, validation_batch_size, validation_freq, max_queue_size, workers, use_multiprocessing)\u001b[0m\n\u001b[1;32m   1098\u001b[0m                 _r=1):\n\u001b[1;32m   1099\u001b[0m               \u001b[0mcallbacks\u001b[0m\u001b[0;34m.\u001b[0m\u001b[0mon_train_batch_begin\u001b[0m\u001b[0;34m(\u001b[0m\u001b[0mstep\u001b[0m\u001b[0;34m)\u001b[0m\u001b[0;34m\u001b[0m\u001b[0;34m\u001b[0m\u001b[0m\n\u001b[0;32m-> 1100\u001b[0;31m               \u001b[0mtmp_logs\u001b[0m \u001b[0;34m=\u001b[0m \u001b[0mself\u001b[0m\u001b[0;34m.\u001b[0m\u001b[0mtrain_function\u001b[0m\u001b[0;34m(\u001b[0m\u001b[0miterator\u001b[0m\u001b[0;34m)\u001b[0m\u001b[0;34m\u001b[0m\u001b[0;34m\u001b[0m\u001b[0m\n\u001b[0m\u001b[1;32m   1101\u001b[0m               \u001b[0;32mif\u001b[0m \u001b[0mdata_handler\u001b[0m\u001b[0;34m.\u001b[0m\u001b[0mshould_sync\u001b[0m\u001b[0;34m:\u001b[0m\u001b[0;34m\u001b[0m\u001b[0;34m\u001b[0m\u001b[0m\n\u001b[1;32m   1102\u001b[0m                 \u001b[0mcontext\u001b[0m\u001b[0;34m.\u001b[0m\u001b[0masync_wait\u001b[0m\u001b[0;34m(\u001b[0m\u001b[0;34m)\u001b[0m\u001b[0;34m\u001b[0m\u001b[0;34m\u001b[0m\u001b[0m\n",
      "\u001b[0;32m/Library/Frameworks/Python.framework/Versions/3.8/lib/python3.8/site-packages/tensorflow/python/eager/def_function.py\u001b[0m in \u001b[0;36m__call__\u001b[0;34m(self, *args, **kwds)\u001b[0m\n\u001b[1;32m    826\u001b[0m     \u001b[0mtracing_count\u001b[0m \u001b[0;34m=\u001b[0m \u001b[0mself\u001b[0m\u001b[0;34m.\u001b[0m\u001b[0mexperimental_get_tracing_count\u001b[0m\u001b[0;34m(\u001b[0m\u001b[0;34m)\u001b[0m\u001b[0;34m\u001b[0m\u001b[0;34m\u001b[0m\u001b[0m\n\u001b[1;32m    827\u001b[0m     \u001b[0;32mwith\u001b[0m \u001b[0mtrace\u001b[0m\u001b[0;34m.\u001b[0m\u001b[0mTrace\u001b[0m\u001b[0;34m(\u001b[0m\u001b[0mself\u001b[0m\u001b[0;34m.\u001b[0m\u001b[0m_name\u001b[0m\u001b[0;34m)\u001b[0m \u001b[0;32mas\u001b[0m \u001b[0mtm\u001b[0m\u001b[0;34m:\u001b[0m\u001b[0;34m\u001b[0m\u001b[0;34m\u001b[0m\u001b[0m\n\u001b[0;32m--> 828\u001b[0;31m       \u001b[0mresult\u001b[0m \u001b[0;34m=\u001b[0m \u001b[0mself\u001b[0m\u001b[0;34m.\u001b[0m\u001b[0m_call\u001b[0m\u001b[0;34m(\u001b[0m\u001b[0;34m*\u001b[0m\u001b[0margs\u001b[0m\u001b[0;34m,\u001b[0m \u001b[0;34m**\u001b[0m\u001b[0mkwds\u001b[0m\u001b[0;34m)\u001b[0m\u001b[0;34m\u001b[0m\u001b[0;34m\u001b[0m\u001b[0m\n\u001b[0m\u001b[1;32m    829\u001b[0m       \u001b[0mcompiler\u001b[0m \u001b[0;34m=\u001b[0m \u001b[0;34m\"xla\"\u001b[0m \u001b[0;32mif\u001b[0m \u001b[0mself\u001b[0m\u001b[0;34m.\u001b[0m\u001b[0m_experimental_compile\u001b[0m \u001b[0;32melse\u001b[0m \u001b[0;34m\"nonXla\"\u001b[0m\u001b[0;34m\u001b[0m\u001b[0;34m\u001b[0m\u001b[0m\n\u001b[1;32m    830\u001b[0m       \u001b[0mnew_tracing_count\u001b[0m \u001b[0;34m=\u001b[0m \u001b[0mself\u001b[0m\u001b[0;34m.\u001b[0m\u001b[0mexperimental_get_tracing_count\u001b[0m\u001b[0;34m(\u001b[0m\u001b[0;34m)\u001b[0m\u001b[0;34m\u001b[0m\u001b[0;34m\u001b[0m\u001b[0m\n",
      "\u001b[0;32m/Library/Frameworks/Python.framework/Versions/3.8/lib/python3.8/site-packages/tensorflow/python/eager/def_function.py\u001b[0m in \u001b[0;36m_call\u001b[0;34m(self, *args, **kwds)\u001b[0m\n\u001b[1;32m    853\u001b[0m       \u001b[0;31m# In this case we have created variables on the first call, so we run the\u001b[0m\u001b[0;34m\u001b[0m\u001b[0;34m\u001b[0m\u001b[0;34m\u001b[0m\u001b[0m\n\u001b[1;32m    854\u001b[0m       \u001b[0;31m# defunned version which is guaranteed to never create variables.\u001b[0m\u001b[0;34m\u001b[0m\u001b[0;34m\u001b[0m\u001b[0;34m\u001b[0m\u001b[0m\n\u001b[0;32m--> 855\u001b[0;31m       \u001b[0;32mreturn\u001b[0m \u001b[0mself\u001b[0m\u001b[0;34m.\u001b[0m\u001b[0m_stateless_fn\u001b[0m\u001b[0;34m(\u001b[0m\u001b[0;34m*\u001b[0m\u001b[0margs\u001b[0m\u001b[0;34m,\u001b[0m \u001b[0;34m**\u001b[0m\u001b[0mkwds\u001b[0m\u001b[0;34m)\u001b[0m  \u001b[0;31m# pylint: disable=not-callable\u001b[0m\u001b[0;34m\u001b[0m\u001b[0;34m\u001b[0m\u001b[0m\n\u001b[0m\u001b[1;32m    856\u001b[0m     \u001b[0;32melif\u001b[0m \u001b[0mself\u001b[0m\u001b[0;34m.\u001b[0m\u001b[0m_stateful_fn\u001b[0m \u001b[0;32mis\u001b[0m \u001b[0;32mnot\u001b[0m \u001b[0;32mNone\u001b[0m\u001b[0;34m:\u001b[0m\u001b[0;34m\u001b[0m\u001b[0;34m\u001b[0m\u001b[0m\n\u001b[1;32m    857\u001b[0m       \u001b[0;31m# Release the lock early so that multiple threads can perform the call\u001b[0m\u001b[0;34m\u001b[0m\u001b[0;34m\u001b[0m\u001b[0;34m\u001b[0m\u001b[0m\n",
      "\u001b[0;32m/Library/Frameworks/Python.framework/Versions/3.8/lib/python3.8/site-packages/tensorflow/python/eager/function.py\u001b[0m in \u001b[0;36m__call__\u001b[0;34m(self, *args, **kwargs)\u001b[0m\n\u001b[1;32m   2940\u001b[0m       (graph_function,\n\u001b[1;32m   2941\u001b[0m        filtered_flat_args) = self._maybe_define_function(args, kwargs)\n\u001b[0;32m-> 2942\u001b[0;31m     return graph_function._call_flat(\n\u001b[0m\u001b[1;32m   2943\u001b[0m         filtered_flat_args, captured_inputs=graph_function.captured_inputs)  # pylint: disable=protected-access\n\u001b[1;32m   2944\u001b[0m \u001b[0;34m\u001b[0m\u001b[0m\n",
      "\u001b[0;32m/Library/Frameworks/Python.framework/Versions/3.8/lib/python3.8/site-packages/tensorflow/python/eager/function.py\u001b[0m in \u001b[0;36m_call_flat\u001b[0;34m(self, args, captured_inputs, cancellation_manager)\u001b[0m\n\u001b[1;32m   1916\u001b[0m         and executing_eagerly):\n\u001b[1;32m   1917\u001b[0m       \u001b[0;31m# No tape is watching; skip to running the function.\u001b[0m\u001b[0;34m\u001b[0m\u001b[0;34m\u001b[0m\u001b[0;34m\u001b[0m\u001b[0m\n\u001b[0;32m-> 1918\u001b[0;31m       return self._build_call_outputs(self._inference_function.call(\n\u001b[0m\u001b[1;32m   1919\u001b[0m           ctx, args, cancellation_manager=cancellation_manager))\n\u001b[1;32m   1920\u001b[0m     forward_backward = self._select_forward_and_backward_functions(\n",
      "\u001b[0;32m/Library/Frameworks/Python.framework/Versions/3.8/lib/python3.8/site-packages/tensorflow/python/eager/function.py\u001b[0m in \u001b[0;36mcall\u001b[0;34m(self, ctx, args, cancellation_manager)\u001b[0m\n\u001b[1;32m    553\u001b[0m       \u001b[0;32mwith\u001b[0m \u001b[0m_InterpolateFunctionError\u001b[0m\u001b[0;34m(\u001b[0m\u001b[0mself\u001b[0m\u001b[0;34m)\u001b[0m\u001b[0;34m:\u001b[0m\u001b[0;34m\u001b[0m\u001b[0;34m\u001b[0m\u001b[0m\n\u001b[1;32m    554\u001b[0m         \u001b[0;32mif\u001b[0m \u001b[0mcancellation_manager\u001b[0m \u001b[0;32mis\u001b[0m \u001b[0;32mNone\u001b[0m\u001b[0;34m:\u001b[0m\u001b[0;34m\u001b[0m\u001b[0;34m\u001b[0m\u001b[0m\n\u001b[0;32m--> 555\u001b[0;31m           outputs = execute.execute(\n\u001b[0m\u001b[1;32m    556\u001b[0m               \u001b[0mstr\u001b[0m\u001b[0;34m(\u001b[0m\u001b[0mself\u001b[0m\u001b[0;34m.\u001b[0m\u001b[0msignature\u001b[0m\u001b[0;34m.\u001b[0m\u001b[0mname\u001b[0m\u001b[0;34m)\u001b[0m\u001b[0;34m,\u001b[0m\u001b[0;34m\u001b[0m\u001b[0;34m\u001b[0m\u001b[0m\n\u001b[1;32m    557\u001b[0m               \u001b[0mnum_outputs\u001b[0m\u001b[0;34m=\u001b[0m\u001b[0mself\u001b[0m\u001b[0;34m.\u001b[0m\u001b[0m_num_outputs\u001b[0m\u001b[0;34m,\u001b[0m\u001b[0;34m\u001b[0m\u001b[0;34m\u001b[0m\u001b[0m\n",
      "\u001b[0;32m/Library/Frameworks/Python.framework/Versions/3.8/lib/python3.8/site-packages/tensorflow/python/eager/execute.py\u001b[0m in \u001b[0;36mquick_execute\u001b[0;34m(op_name, num_outputs, inputs, attrs, ctx, name)\u001b[0m\n\u001b[1;32m     57\u001b[0m   \u001b[0;32mtry\u001b[0m\u001b[0;34m:\u001b[0m\u001b[0;34m\u001b[0m\u001b[0;34m\u001b[0m\u001b[0m\n\u001b[1;32m     58\u001b[0m     \u001b[0mctx\u001b[0m\u001b[0;34m.\u001b[0m\u001b[0mensure_initialized\u001b[0m\u001b[0;34m(\u001b[0m\u001b[0;34m)\u001b[0m\u001b[0;34m\u001b[0m\u001b[0;34m\u001b[0m\u001b[0m\n\u001b[0;32m---> 59\u001b[0;31m     tensors = pywrap_tfe.TFE_Py_Execute(ctx._handle, device_name, op_name,\n\u001b[0m\u001b[1;32m     60\u001b[0m                                         inputs, attrs, num_outputs)\n\u001b[1;32m     61\u001b[0m   \u001b[0;32mexcept\u001b[0m \u001b[0mcore\u001b[0m\u001b[0;34m.\u001b[0m\u001b[0m_NotOkStatusException\u001b[0m \u001b[0;32mas\u001b[0m \u001b[0me\u001b[0m\u001b[0;34m:\u001b[0m\u001b[0;34m\u001b[0m\u001b[0;34m\u001b[0m\u001b[0m\n",
      "\u001b[0;31mKeyboardInterrupt\u001b[0m: "
     ]
    }
   ],
   "source": [
    "model.compile(optimizer='adam',\n",
    "              loss=tf.keras.losses.BinaryCrossentropy(from_logits=False),\n",
    "              metrics=[metrics.BinaryAccuracy(), metrics.Precision(), metrics.Recall(), metrics.AUC()])\n",
    "\n",
    "history = model.fit(trainX, trainy, epochs=100, \n",
    "                    validation_data=(testX, testy))"
   ]
  },
  {
   "cell_type": "code",
   "execution_count": null,
   "metadata": {},
   "outputs": [],
   "source": []
  }
 ],
 "metadata": {
  "kernelspec": {
   "display_name": "Python 3.8.1 64-bit",
   "language": "python",
   "name": "python3"
  },
  "language_info": {
   "codemirror_mode": {
    "name": "ipython",
    "version": 3
   },
   "file_extension": ".py",
   "mimetype": "text/x-python",
   "name": "python",
   "nbconvert_exporter": "python",
   "pygments_lexer": "ipython3",
   "version": "3.8.1"
  },
  "orig_nbformat": 2,
  "vscode": {
   "interpreter": {
    "hash": "082e9a3bcad0a290d0001e938aa60b99250c6c2ef33a923c00b70f9826caf4b7"
   }
  }
 },
 "nbformat": 4,
 "nbformat_minor": 2
}
